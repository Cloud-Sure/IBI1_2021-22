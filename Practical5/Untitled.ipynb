{
 "cells": [
  {
   "cell_type": "code",
   "execution_count": 19,
   "id": "85ff3c94",
   "metadata": {
    "scrolled": true
   },
   "outputs": [
    {
     "name": "stdout",
     "output_type": "stream",
     "text": [
      "1.0\n",
      "3.0\n",
      "6.0\n",
      "10.0\n",
      "15.0\n",
      "21.0\n",
      "28.0\n",
      "36.0\n",
      "45.0\n",
      "55.0\n",
      ":)\n"
     ]
    }
   ],
   "source": [
    "for i in range(1,11):\n",
    "    a=(i+1)*i/2\n",
    "    print (a)\n",
    "print (\":)\")"
   ]
  },
  {
   "cell_type": "code",
   "execution_count": 32,
   "id": "0b5e8901",
   "metadata": {
    "scrolled": false
   },
   "outputs": [
    {
     "name": "stdout",
     "output_type": "stream",
     "text": [
      "4\n",
      "10\n"
     ]
    }
   ],
   "source": [
    "from random import randint\n",
    "\n",
    "# ceil takes the ceiling of a number, i.e. the next higher integer.\n",
    "# e.g. ceil(4.2)=5\n",
    "from math import ceil\n",
    "\n",
    "progress=0\n",
    "while progress<10:\n",
    "\tprogress+=1\n",
    "\tn = randint(1,100)\n",
    "\n",
    "print(n)\n",
    "print(progress)"
   ]
  },
  {
   "cell_type": "code",
   "execution_count": 34,
   "id": "92b4d9bf",
   "metadata": {},
   "outputs": [
    {
     "name": "stdout",
     "output_type": "stream",
     "text": [
      "4\n"
     ]
    }
   ],
   "source": [
    "p= (n**2+n+2)/2\n",
    "p=64 #p= input()\n",
    "print (n)"
   ]
  },
  {
   "cell_type": "code",
   "execution_count": null,
   "id": "2458665d",
   "metadata": {},
   "outputs": [],
   "source": []
  }
 ],
 "metadata": {
  "kernelspec": {
   "display_name": "Python 3 (ipykernel)",
   "language": "python",
   "name": "python3"
  },
  "language_info": {
   "codemirror_mode": {
    "name": "ipython",
    "version": 3
   },
   "file_extension": ".py",
   "mimetype": "text/x-python",
   "name": "python",
   "nbconvert_exporter": "python",
   "pygments_lexer": "ipython3",
   "version": "3.7.2"
  }
 },
 "nbformat": 4,
 "nbformat_minor": 5
}
